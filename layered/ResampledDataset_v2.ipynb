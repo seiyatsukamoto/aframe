{
 "cells": [
  {
   "cell_type": "code",
   "execution_count": 1,
   "id": "7cba4ddc-3946-4436-bd63-4bbe7d0ebde9",
   "metadata": {},
   "outputs": [
    {
     "name": "stderr",
     "output_type": "stream",
     "text": [
      "/usr/local/lib/python3.10/site-packages/lalsimulation/lalsimulation.py:8: UserWarning: Wswiglal-redir-stdio:\n",
      "\n",
      "SWIGLAL standard output/error redirection is enabled in IPython.\n",
      "This may lead to performance penalties. To disable locally, use:\n",
      "\n",
      "with lal.no_swig_redirect_standard_output_error():\n",
      "    ...\n",
      "\n",
      "To disable globally, use:\n",
      "\n",
      "lal.swig_redirect_standard_output_error(False)\n",
      "\n",
      "Note however that this will likely lead to error messages from\n",
      "LAL functions being either misdirected or lost when called from\n",
      "Jupyter notebooks.\n",
      "\n",
      "To suppress this warning, use:\n",
      "\n",
      "import warnings\n",
      "warnings.filterwarnings(\"ignore\", \"Wswiglal-redir-stdio\")\n",
      "import lal\n",
      "\n",
      "  import lal\n",
      "PyCBC.libutils: pkg-config call failed, setting NO_PKGCONFIG=1\n",
      "/usr/local/lib/python3.10/site-packages/tqdm/auto.py:21: TqdmWarning: IProgress not found. Please update jupyter and ipywidgets. See https://ipywidgets.readthedocs.io/en/stable/user_install.html\n",
      "  from .autonotebook import tqdm as notebook_tqdm\n"
     ]
    }
   ],
   "source": [
    "from train.data.supervised import ResampledAframeDataset_v2\n",
    "from ml4gw.distributions import PowerLaw\n",
    "import torch\n",
    "from lightning.pytorch.trainer import Trainer\n",
    "from train.callbacks import ModelCheckpoint, SaveAugmentedBatch\n",
    "from train.model import SupervisedAframe\n",
    "from architectures.bandpass import Bandpass\n",
    "from ml4gw.nn.norm import GroupNorm1DGetter\n",
    "from train.metrics import TimeSlideAUROC\n",
    "from lightning.pytorch.loggers import CSVLogger\n",
    "import sys\n",
    "sys.path.append('/home/seiya.tsukamoto/aframe/libs/priors/')\n",
    "from priors.priors import end_o3_ratesandpops\n",
    "import numpy as np\n",
    "import os\n",
    "import gc\n",
    "from matplotlib import pyplot as plt\n",
    "from collections import defaultdict\n",
    "from torchmetrics.classification import BinaryAUROC\n",
    "from scipy.signal import decimate\n",
    "import torchaudio.transforms as T"
   ]
  },
  {
   "cell_type": "code",
   "execution_count": 2,
   "id": "e7627aac-da1e-46e6-86ae-46baf19f0438",
   "metadata": {},
   "outputs": [],
   "source": [
    "arch = Bandpass(classes = 64, num_ifos = 2, layers = [3, 4, 6, 3], norm_layer = GroupNorm1DGetter(groups = 16), \n",
    "                                  sample_rate = 2048, kernel_length = 4)\n",
    "metric = TimeSlideAUROC(max_fpr = 1e-3, pool_length = 8, stride = 0.5)\n",
    "weight_decay = 0.0\n",
    "learning_rate = 0.000585\n",
    "pct_lr_ramp = 0.115\n",
    "\n",
    "\n",
    "batch_size = 512\n",
    "batches_per_epoch = 10\n",
    "num_files_per_batch = 10\n",
    "chunk_size = 10000\n",
    "chunks_per_epoch = 10\n",
    "psd_length = 8\n",
    "fftlength = None\n",
    "\n",
    "waveform_prob = 0.277\n",
    "swap_prob = 0.014\n",
    "mute_prob = 0.055\n",
    "left_pad = 0.25\n",
    "right_pad = 0.05\n",
    "snr_sampler = PowerLaw(minimum = 4, maximum = 100, index = -3)\n",
    "valid_frac = 0.25\n",
    "valid_stride = 0.5\n",
    "num_valid_views = 5\n",
    "valid_livetime = 10000\n",
    "\n",
    "\n",
    "\n",
    "logger = CSVLogger(save_dir = '/home/seiya.tsukamoto/aframe/layered/test_runs', flush_logs_every_n_steps = 10)\n",
    "callbacks = [ModelCheckpoint(monitor = \"valid_auroc\", mode = \"max\", save_top_k = 1, save_last = True, auto_insert_metric_name = False),\n",
    "             SaveAugmentedBatch()]\n",
    "max_epochs = 1\n",
    "check_val_every_n_epoch = 1\n",
    "log_every_n_steps = 20\n",
    "\n",
    "\n",
    "\n",
    "ifos = [\"H1\", \"L1\"]\n",
    "train_start = 1240579783\n",
    "train_stop = 1241443783\n",
    "test_stop = 1244035783 \n",
    "max_duration = 10000\n",
    "Tb = 31536000\n",
    "shifts = [0, 1]\n",
    "seed = 1122\n",
    "\n",
    "streams_per_gpu = 1\n",
    "\n",
    "kernel_length = [4, 2, 1]\n",
    "prior = end_o3_ratesandpops\n",
    "\n",
    "fftlength = None \n",
    "sample_rate = [512, 1024, 2048]\n",
    "fduration = 1\n",
    "highpass = [32, 64, 128]\n",
    "lowpass = [64, 128, 1024]\n",
    "band = 0\n",
    "resampler = T.Resample(2048, sample_rate[band])\n",
    "\n",
    "inference_psd_length = 64\n",
    "inference_sampling_rate = 4\n",
    "inference_batch_size = 128\n",
    "\n",
    "waveform_duration = 10\n",
    "coalescence_time = 8\n",
    "min_valid_duration = 1000.0\n",
    "\n",
    "data_dir = '/home/seiya.tsukamoto/aframe/layered/data/train'"
   ]
  },
  {
   "cell_type": "code",
   "execution_count": 3,
   "id": "e8a29848-11c6-4a8d-af39-316acbbb43f1",
   "metadata": {},
   "outputs": [],
   "source": [
    "module = SupervisedAframe(arch = arch, metric = metric, learning_rate = learning_rate, \n",
    "                          pct_lr_ramp = pct_lr_ramp, weight_decay = weight_decay, verbose = True)"
   ]
  },
  {
   "cell_type": "code",
   "execution_count": 4,
   "id": "250f58fc-952f-433f-8512-f739fc5e0f1a",
   "metadata": {},
   "outputs": [
    {
     "ename": "TypeError",
     "evalue": "BaseAframeDataset.__init__() got an unexpected keyword argument 'resampler'",
     "output_type": "error",
     "traceback": [
      "\u001b[0;31m---------------------------------------------------------------------------\u001b[0m",
      "\u001b[0;31mTypeError\u001b[0m                                 Traceback (most recent call last)",
      "Cell \u001b[0;32mIn[4], line 1\u001b[0m\n\u001b[0;32m----> 1\u001b[0m RSAD \u001b[38;5;241m=\u001b[39m \u001b[43mResampledAframeDataset_v2\u001b[49m\u001b[43m(\u001b[49m\u001b[43mdata_dir\u001b[49m\u001b[43m \u001b[49m\u001b[38;5;241;43m=\u001b[39;49m\u001b[43m \u001b[49m\u001b[43mdata_dir\u001b[49m\u001b[43m,\u001b[49m\u001b[43m \u001b[49m\u001b[43mifos\u001b[49m\u001b[43m \u001b[49m\u001b[38;5;241;43m=\u001b[39;49m\u001b[43m \u001b[49m\u001b[43mifos\u001b[49m\u001b[43m,\u001b[49m\u001b[43m \u001b[49m\u001b[43msample_rate\u001b[49m\u001b[43m \u001b[49m\u001b[38;5;241;43m=\u001b[39;49m\u001b[43m \u001b[49m\u001b[43msample_rate\u001b[49m\u001b[43m[\u001b[49m\u001b[43mband\u001b[49m\u001b[43m]\u001b[49m\u001b[43m,\u001b[49m\n\u001b[1;32m      2\u001b[0m \u001b[43m                                 \u001b[49m\u001b[43mvalid_frac\u001b[49m\u001b[43m \u001b[49m\u001b[38;5;241;43m=\u001b[39;49m\u001b[43m \u001b[49m\u001b[43mvalid_frac\u001b[49m\u001b[43m,\u001b[49m\u001b[43m \u001b[49m\u001b[43mbatches_per_epoch\u001b[49m\u001b[43m \u001b[49m\u001b[38;5;241;43m=\u001b[39;49m\u001b[43m \u001b[49m\u001b[43mbatches_per_epoch\u001b[49m\u001b[43m,\u001b[49m\u001b[43m \u001b[49m\n\u001b[1;32m      3\u001b[0m \u001b[43m                                 \u001b[49m\u001b[43mnum_files_per_batch\u001b[49m\u001b[43m \u001b[49m\u001b[38;5;241;43m=\u001b[39;49m\u001b[43m \u001b[49m\u001b[43mnum_files_per_batch\u001b[49m\u001b[43m,\u001b[49m\u001b[43m \u001b[49m\u001b[43mbatch_size\u001b[49m\u001b[43m \u001b[49m\u001b[38;5;241;43m=\u001b[39;49m\u001b[43m \u001b[49m\u001b[43mbatch_size\u001b[49m\u001b[43m,\u001b[49m\n\u001b[1;32m      4\u001b[0m \u001b[43m                                 \u001b[49m\u001b[43mkernel_length\u001b[49m\u001b[43m \u001b[49m\u001b[38;5;241;43m=\u001b[39;49m\u001b[43m \u001b[49m\u001b[43mkernel_length\u001b[49m\u001b[43m[\u001b[49m\u001b[43mband\u001b[49m\u001b[43m]\u001b[49m\u001b[43m,\u001b[49m\u001b[43m \u001b[49m\u001b[43mfduration\u001b[49m\u001b[43m \u001b[49m\u001b[38;5;241;43m=\u001b[39;49m\u001b[43m \u001b[49m\u001b[43mfduration\u001b[49m\u001b[43m,\u001b[49m\u001b[43m \u001b[49m\u001b[43mpsd_length\u001b[49m\u001b[43m \u001b[49m\u001b[38;5;241;43m=\u001b[39;49m\u001b[43m \u001b[49m\u001b[43mpsd_length\u001b[49m\u001b[43m,\u001b[49m\u001b[43m \u001b[49m\n\u001b[1;32m      5\u001b[0m \u001b[43m                                 \u001b[49m\u001b[43mwaveform_prob\u001b[49m\u001b[43m \u001b[49m\u001b[38;5;241;43m=\u001b[39;49m\u001b[43m \u001b[49m\u001b[43mwaveform_prob\u001b[49m\u001b[43m,\u001b[49m\u001b[43m \u001b[49m\u001b[43mmax_snr\u001b[49m\u001b[43m \u001b[49m\u001b[38;5;241;43m=\u001b[39;49m\u001b[43m \u001b[49m\u001b[38;5;28;43;01mNone\u001b[39;49;00m\u001b[43m,\u001b[49m\u001b[43m \u001b[49m\u001b[43msnr_alpha\u001b[49m\u001b[43m \u001b[49m\u001b[38;5;241;43m=\u001b[39;49m\u001b[43m \u001b[49m\u001b[38;5;28;43;01mNone\u001b[39;49;00m\u001b[43m,\u001b[49m\n\u001b[1;32m      6\u001b[0m \u001b[43m                                 \u001b[49m\u001b[43mleft_pad\u001b[49m\u001b[43m \u001b[49m\u001b[38;5;241;43m=\u001b[39;49m\u001b[43m \u001b[49m\u001b[43mleft_pad\u001b[49m\u001b[43m,\u001b[49m\u001b[43m \u001b[49m\u001b[43mright_pad\u001b[49m\u001b[43m \u001b[49m\u001b[38;5;241;43m=\u001b[39;49m\u001b[43m \u001b[49m\u001b[43mright_pad\u001b[49m\u001b[43m,\u001b[49m\u001b[43m \u001b[49m\u001b[43mfftlength\u001b[49m\u001b[43m \u001b[49m\u001b[38;5;241;43m=\u001b[39;49m\u001b[43m \u001b[49m\u001b[43mfftlength\u001b[49m\u001b[43m,\u001b[49m\n\u001b[1;32m      7\u001b[0m \u001b[43m                                 \u001b[49m\u001b[43mhighpass\u001b[49m\u001b[43m \u001b[49m\u001b[38;5;241;43m=\u001b[39;49m\u001b[43m \u001b[49m\u001b[43mhighpass\u001b[49m\u001b[43m[\u001b[49m\u001b[43mband\u001b[49m\u001b[43m]\u001b[49m\u001b[43m,\u001b[49m\u001b[43m \u001b[49m\u001b[43mlowpass\u001b[49m\u001b[43m \u001b[49m\u001b[38;5;241;43m=\u001b[39;49m\u001b[43m \u001b[49m\u001b[43mlowpass\u001b[49m\u001b[43m[\u001b[49m\u001b[43mband\u001b[49m\u001b[43m]\u001b[49m\u001b[43m,\u001b[49m\u001b[43m \u001b[49m\u001b[43msnr_sampler\u001b[49m\u001b[43m \u001b[49m\u001b[38;5;241;43m=\u001b[39;49m\u001b[43m \u001b[49m\u001b[43msnr_sampler\u001b[49m\u001b[43m,\u001b[49m\u001b[43m \u001b[49m\n\u001b[1;32m      8\u001b[0m \u001b[43m                                 \u001b[49m\u001b[43mvalid_stride\u001b[49m\u001b[43m \u001b[49m\u001b[38;5;241;43m=\u001b[39;49m\u001b[43m \u001b[49m\u001b[43mvalid_stride\u001b[49m\u001b[43m,\u001b[49m\u001b[43m \u001b[49m\u001b[43mnum_valid_views\u001b[49m\u001b[43m \u001b[49m\u001b[38;5;241;43m=\u001b[39;49m\u001b[43m \u001b[49m\u001b[43mnum_valid_views\u001b[49m\u001b[43m,\u001b[49m\u001b[43m \u001b[49m\n\u001b[1;32m      9\u001b[0m \u001b[43m                                 \u001b[49m\u001b[43mmin_valid_duration\u001b[49m\u001b[43m \u001b[49m\u001b[38;5;241;43m=\u001b[39;49m\u001b[43m \u001b[49m\u001b[43mmin_valid_duration\u001b[49m\u001b[43m,\u001b[49m\u001b[43m \u001b[49m\u001b[43mvalid_livetime\u001b[49m\u001b[43m \u001b[49m\u001b[38;5;241;43m=\u001b[39;49m\u001b[43m \u001b[49m\u001b[43mvalid_livetime\u001b[49m\u001b[43m,\u001b[49m\u001b[43m \u001b[49m\n\u001b[1;32m     10\u001b[0m \u001b[43m                                 \u001b[49m\u001b[43mverbose\u001b[49m\u001b[43m \u001b[49m\u001b[38;5;241;43m=\u001b[39;49m\u001b[43m \u001b[49m\u001b[38;5;28;43;01mTrue\u001b[39;49;00m\u001b[43m,\u001b[49m\u001b[43m \u001b[49m\u001b[43mchunks_per_epoch\u001b[49m\u001b[43m \u001b[49m\u001b[38;5;241;43m=\u001b[39;49m\u001b[43m \u001b[49m\u001b[43mchunks_per_epoch\u001b[49m\u001b[43m,\u001b[49m\u001b[43mchunk_size\u001b[49m\u001b[43m \u001b[49m\u001b[38;5;241;43m=\u001b[39;49m\u001b[43m \u001b[49m\u001b[43mchunk_size\u001b[49m\u001b[43m,\u001b[49m\u001b[43m \u001b[49m\n\u001b[1;32m     11\u001b[0m \u001b[43m                                 \u001b[49m\u001b[43mresampler\u001b[49m\u001b[43m \u001b[49m\u001b[38;5;241;43m=\u001b[39;49m\u001b[43m \u001b[49m\u001b[43mresampler\u001b[49m\u001b[43m,\u001b[49m\u001b[43m \u001b[49m\u001b[43mfile_sample_rate\u001b[49m\u001b[43m \u001b[49m\u001b[38;5;241;43m=\u001b[39;49m\u001b[43m \u001b[49m\u001b[38;5;241;43m2048\u001b[39;49m\u001b[43m)\u001b[49m\n",
      "File \u001b[0;32m/opt/aframe/projects/train/train/data/supervised/resampled_v2.py:40\u001b[0m, in \u001b[0;36mResampledAframeDataset_v2.__init__\u001b[0;34m(self, file_sample_rate, *args, **kwargs)\u001b[0m\n\u001b[1;32m     34\u001b[0m \u001b[38;5;28;01mdef\u001b[39;00m\u001b[38;5;250m \u001b[39m\u001b[38;5;21m__init__\u001b[39m(\n\u001b[1;32m     35\u001b[0m     \u001b[38;5;28mself\u001b[39m,\n\u001b[1;32m     36\u001b[0m     file_sample_rate: \u001b[38;5;28mfloat\u001b[39m,\n\u001b[1;32m     37\u001b[0m     \u001b[38;5;241m*\u001b[39margs, \n\u001b[1;32m     38\u001b[0m     \u001b[38;5;241m*\u001b[39m\u001b[38;5;241m*\u001b[39mkwargs\n\u001b[1;32m     39\u001b[0m ) \u001b[38;5;241m-\u001b[39m\u001b[38;5;241m>\u001b[39m \u001b[38;5;28;01mNone\u001b[39;00m:\n\u001b[0;32m---> 40\u001b[0m     \u001b[38;5;28;43msuper\u001b[39;49m\u001b[43m(\u001b[49m\u001b[43m)\u001b[49m\u001b[38;5;241;43m.\u001b[39;49m\u001b[38;5;21;43m__init__\u001b[39;49m\u001b[43m(\u001b[49m\u001b[38;5;241;43m*\u001b[39;49m\u001b[43margs\u001b[49m\u001b[43m,\u001b[49m\u001b[43m \u001b[49m\u001b[38;5;241;43m*\u001b[39;49m\u001b[38;5;241;43m*\u001b[39;49m\u001b[43mkwargs\u001b[49m\u001b[43m)\u001b[49m\n\u001b[1;32m     41\u001b[0m     \u001b[38;5;28mself\u001b[39m\u001b[38;5;241m.\u001b[39mresampler \u001b[38;5;241m=\u001b[39m Resample(file_sample_rate, \u001b[38;5;28mself\u001b[39m\u001b[38;5;241m.\u001b[39mhparams\u001b[38;5;241m.\u001b[39msample_rate)\n\u001b[1;32m     42\u001b[0m     \u001b[38;5;28mself\u001b[39m\u001b[38;5;241m.\u001b[39mfile_sample_rate \u001b[38;5;241m=\u001b[39m file_sample_rate\n",
      "File \u001b[0;32m/opt/aframe/projects/train/train/data/supervised/supervised.py:18\u001b[0m, in \u001b[0;36mSupervisedAframeDataset.__init__\u001b[0;34m(self, swap_prob, mute_prob, *args, **kwargs)\u001b[0m\n\u001b[1;32m     11\u001b[0m \u001b[38;5;28;01mdef\u001b[39;00m\u001b[38;5;250m \u001b[39m\u001b[38;5;21m__init__\u001b[39m(\n\u001b[1;32m     12\u001b[0m     \u001b[38;5;28mself\u001b[39m,\n\u001b[1;32m     13\u001b[0m     \u001b[38;5;241m*\u001b[39margs,\n\u001b[0;32m   (...)\u001b[0m\n\u001b[1;32m     16\u001b[0m     \u001b[38;5;241m*\u001b[39m\u001b[38;5;241m*\u001b[39mkwargs,\n\u001b[1;32m     17\u001b[0m ) \u001b[38;5;241m-\u001b[39m\u001b[38;5;241m>\u001b[39m \u001b[38;5;28;01mNone\u001b[39;00m:\n\u001b[0;32m---> 18\u001b[0m     \u001b[38;5;28;43msuper\u001b[39;49m\u001b[43m(\u001b[49m\u001b[43m)\u001b[49m\u001b[38;5;241;43m.\u001b[39;49m\u001b[38;5;21;43m__init__\u001b[39;49m\u001b[43m(\u001b[49m\u001b[38;5;241;43m*\u001b[39;49m\u001b[43margs\u001b[49m\u001b[43m,\u001b[49m\u001b[43m \u001b[49m\u001b[38;5;241;43m*\u001b[39;49m\u001b[38;5;241;43m*\u001b[39;49m\u001b[43mkwargs\u001b[49m\u001b[43m)\u001b[49m\n\u001b[1;32m     19\u001b[0m     \u001b[38;5;28;01mif\u001b[39;00m swap_prob \u001b[38;5;129;01mis\u001b[39;00m \u001b[38;5;129;01mnot\u001b[39;00m \u001b[38;5;28;01mNone\u001b[39;00m \u001b[38;5;129;01mand\u001b[39;00m \u001b[38;5;241m0\u001b[39m \u001b[38;5;241m<\u001b[39m swap_prob \u001b[38;5;241m<\u001b[39m \u001b[38;5;241m1\u001b[39m:\n\u001b[1;32m     20\u001b[0m         \u001b[38;5;28mself\u001b[39m\u001b[38;5;241m.\u001b[39mswapper \u001b[38;5;241m=\u001b[39m aug\u001b[38;5;241m.\u001b[39mChannelSwapper(swap_prob)\n",
      "\u001b[0;31mTypeError\u001b[0m: BaseAframeDataset.__init__() got an unexpected keyword argument 'resampler'"
     ]
    }
   ],
   "source": [
    "RSAD = ResampledAframeDataset_v2(data_dir = data_dir, ifos = ifos, sample_rate = sample_rate[band],\n",
    "                                 valid_frac = valid_frac, batches_per_epoch = batches_per_epoch, \n",
    "                                 num_files_per_batch = num_files_per_batch, batch_size = batch_size,\n",
    "                                 kernel_length = kernel_length[band], fduration = fduration, psd_length = psd_length, \n",
    "                                 waveform_prob = waveform_prob, max_snr = None, snr_alpha = None,\n",
    "                                 left_pad = left_pad, right_pad = right_pad, fftlength = fftlength,\n",
    "                                 highpass = highpass[band], lowpass = lowpass[band], snr_sampler = snr_sampler, \n",
    "                                 valid_stride = valid_stride, num_valid_views = num_valid_views, \n",
    "                                 min_valid_duration = min_valid_duration, valid_livetime = valid_livetime, \n",
    "                                 verbose = True, chunks_per_epoch = chunks_per_epoch,chunk_size = chunk_size, \n",
    "                                 resampler = resampler, file_sample_rate = 2048)"
   ]
  },
  {
   "cell_type": "code",
   "execution_count": null,
   "id": "6715cf11-e3d9-468e-8989-fa5682ec83a2",
   "metadata": {},
   "outputs": [],
   "source": [
    "trainer = Trainer(accelerator = 'cpu', strategy = 'ddp_notebook', devices = 1, num_nodes = 1, logger = logger, \n",
    "                  callbacks = callbacks, max_epochs = 1, check_val_every_n_epoch = 1, log_every_n_steps = 20, \n",
    "                  benchmark = True, fast_dev_run = False)"
   ]
  },
  {
   "cell_type": "code",
   "execution_count": null,
   "id": "36a8e37a-2402-4c66-bc41-89963932c5c6",
   "metadata": {},
   "outputs": [],
   "source": [
    "#import os"
   ]
  },
  {
   "cell_type": "code",
   "execution_count": null,
   "id": "db372c3d-55ea-4f81-a935-d5439b8e37af",
   "metadata": {},
   "outputs": [],
   "source": [
    "#os.environ[\"CUDA_VISIBLE_DEVICES\"] = '0'"
   ]
  },
  {
   "cell_type": "code",
   "execution_count": null,
   "id": "c7e13f73-443e-49d0-877a-d58a5b57cccc",
   "metadata": {
    "scrolled": true
   },
   "outputs": [],
   "source": [
    "#trainer.fit(module, datamodule=RSAD)"
   ]
  },
  {
   "cell_type": "code",
   "execution_count": null,
   "id": "7d129caf-d876-4847-8673-a95f65e22f4e",
   "metadata": {
    "scrolled": true
   },
   "outputs": [],
   "source": [
    "#asd = torch.jit.load('/home/seiya.tsukamoto/aframe/layered/test_runs/model.pt')\n",
    "#module.model.load_state_dict(asd.state_dict())\n",
    "#module.model.eval()\n",
    "#_ = module.to(torch.device('cuda:0'))"
   ]
  },
  {
   "cell_type": "code",
   "execution_count": null,
   "id": "88b3811c-91af-43c1-9a8e-28fc621e5028",
   "metadata": {},
   "outputs": [],
   "source": [
    "trainer.strategy._lightning_module = module\n",
    "RSAD.trainer = trainer\n",
    "RSAD.prepare_data()\n",
    "RSAD.setup(stage = 'train')"
   ]
  },
  {
   "cell_type": "code",
   "execution_count": null,
   "id": "9520a700-b183-4aef-beb2-2669a4860fbf",
   "metadata": {},
   "outputs": [],
   "source": [
    "RSAD.trainer.training = True\n",
    "RSAD.trainer.validating = False\n",
    "ds = RSAD.train_dataloader()\n",
    "with torch.no_grad():\n",
    "    batch = batch"
   ]
  },
  {
   "cell_type": "code",
   "execution_count": null,
   "id": "3bf00dcb-c395-42ab-bce9-29e1221171ad",
   "metadata": {
    "scrolled": true
   },
   "outputs": [],
   "source": [
    "RSAD.trainer.training = True\n",
    "RSAD.trainer.validating = False\n",
    "ds = RSAD.train_dataloader()\n",
    "with torch.no_grad():\n",
    "    for batch in ds:\n",
    "        batch = RSAD.on_before_batch_transfer(batch, 10)\n",
    "        batch = RSAD.on_after_batch_transfer(batch, 10)\n",
    "        X, waveforms = batch\n",
    "        break\n",
    "plt.plot(X[0][0][:512].numpy())"
   ]
  },
  {
   "cell_type": "code",
   "execution_count": 7,
   "id": "1269e01b-b3e2-47ea-b6ff-79ee78948721",
   "metadata": {},
   "outputs": [],
   "source": [
    "import time"
   ]
  },
  {
   "cell_type": "code",
   "execution_count": 8,
   "id": "a0818049-9fc2-4ecf-bad3-00927b9012c6",
   "metadata": {},
   "outputs": [
    {
     "name": "stdout",
     "output_type": "stream",
     "text": [
      "2025-08-31 09:51:28,911 - AframeDataset - DEBUG - Using 6 workers for strain data loading\n",
      "2025-08-31 09:51:32,597 - AframeDataset - INFO - Training on pool of 100000 waveforms. Sampling 2 batches per chunk from 10 chunks of size 10000 each epoch\n",
      "0.3114595413208008\n",
      "0.3198518753051758\n",
      "0.3162105083465576\n",
      "0.309786319732666\n",
      "0.3151862621307373\n",
      "0.3152439594268799\n",
      "0.3195178508758545\n",
      "0.31011390686035156\n",
      "0.29720067977905273\n",
      "0.3178074359893799\n",
      "on_before_batch_transfer 0.019917964935302734\n",
      "on_before_batch_transfer 0.3606414794921875\n",
      "on_before_batch_transfer 0.013330698013305664\n",
      "on_before_batch_transfer 0.08661794662475586\n",
      "on_before_batch_transfer 0.011404037475585938\n",
      "on_before_batch_transfer 0.08768939971923828\n",
      "on_before_batch_transfer 0.008308887481689453\n",
      "on_before_batch_transfer 0.10699033737182617\n",
      "on_before_batch_transfer 0.01194000244140625\n",
      "on_before_batch_transfer 0.16906189918518066\n",
      "on_before_batch_transfer 0.021386146545410156\n",
      "on_before_batch_transfer 0.08605694770812988\n",
      "on_before_batch_transfer 0.019124507904052734\n",
      "on_before_batch_transfer 0.09985184669494629\n",
      "on_before_batch_transfer 0.01788043975830078\n",
      "on_before_batch_transfer 0.10505199432373047\n",
      "on_before_batch_transfer 0.01394510269165039\n",
      "on_before_batch_transfer 0.1108999252319336\n",
      "on_before_batch_transfer 0.011896133422851562\n",
      "on_before_batch_transfer 0.0772104263305664\n"
     ]
    },
    {
     "data": {
      "text/plain": [
       "77.78355121612549"
      ]
     },
     "execution_count": 8,
     "metadata": {},
     "output_type": "execute_result"
    }
   ],
   "source": [
    "RSAD.trainer.training = True\n",
    "RSAD.trainer.validating = False\n",
    "ds = RSAD.train_dataloader()\n",
    "t1 = time.time()\n",
    "for batch in ds:\n",
    "    start_time = time.time()\n",
    "    batch = RSAD.on_before_batch_transfer(batch, 10)\n",
    "    end_time = time.time()\n",
    "    print(f'on_before_batch_transfer {end_time-start_time}')\n",
    "    start_time = time.time()\n",
    "    batch = RSAD.on_after_batch_transfer(batch, 10)\n",
    "    end_time = time.time()\n",
    "    print(f'on_after_batch_transfer {end_time-start_time}')\n",
    "t2 = time.time()\n",
    "t2-t1"
   ]
  },
  {
   "cell_type": "code",
   "execution_count": 9,
   "id": "de688acf-ec21-4b37-8864-2ace6e5226ae",
   "metadata": {},
   "outputs": [
    {
     "data": {
      "text/plain": [
       "-24.409396409988403"
      ]
     },
     "execution_count": 9,
     "metadata": {},
     "output_type": "execute_result"
    }
   ],
   "source": [
    "import time\n",
    "test = T.Resample(2048, 512)\n",
    "start_time = time.time()\n",
    "for i in range(2000):\n",
    "    test(X)\n",
    "end_time = time.time()\n",
    "start_time - end_time"
   ]
  },
  {
   "cell_type": "code",
   "execution_count": 10,
   "id": "5ea392e3-6ef3-4c54-a1d6-b45a277042fe",
   "metadata": {},
   "outputs": [],
   "source": [
    "from scipy.signal import decimate"
   ]
  },
  {
   "cell_type": "code",
   "execution_count": 11,
   "id": "768b09a8-bbc8-4633-8dd0-f08a9ad2ccb8",
   "metadata": {},
   "outputs": [
    {
     "name": "stderr",
     "output_type": "stream",
     "text": [
      "\n",
      "KeyboardInterrupt\n",
      "\n"
     ]
    }
   ],
   "source": [
    "start_time = time.time()\n",
    "for i in range(2000):\n",
    "    decimate(X, 4)\n",
    "end_time = time.time()\n",
    "start_time - end_time"
   ]
  },
  {
   "cell_type": "code",
   "execution_count": 12,
   "id": "125c0f3d-8df9-4e36-a4d5-7a149e72992d",
   "metadata": {},
   "outputs": [
    {
     "data": {
      "image/png": "[encoded data removed]",
      "text/plain": [
       "<Figure size 640x480 with 1 Axes>"
      ]
     },
     "metadata": {},
     "output_type": "display_data"
    }
   ],
   "source": [
    "from scipy.fft import fft, fftfreq\n",
    "import numpy as np\n",
    "N = 2048\n",
    "T = 1.0 / 512.0\n",
    "yf = fft(X[0][0].cpu().numpy())\n",
    "xf = fftfreq(N, T)[:N//2]\n",
    "plt.plot(xf, 2.0/N * np.abs(yf[0:N//2]))\n",
    "plt.axvline(32, c = 'C1')\n",
    "plt.axvline(64, c = 'C1')\n",
    "plt.grid()\n",
    "plt.show()"
   ]
  },
  {
   "cell_type": "code",
   "execution_count": 13,
   "id": "017b7bbc-7354-41b0-9879-1b8d95a3eac2",
   "metadata": {},
   "outputs": [
    {
     "data": {
      "text/plain": [
       "[<matplotlib.lines.Line2D at 0x7f9e05b12c50>]"
      ]
     },
     "execution_count": 13,
     "metadata": {},
     "output_type": "execute_result"
    },
    {
     "data": {
      "image/png": "[encoded data removed]",
      "text/plain": [
       "<Figure size 640x480 with 1 Axes>"
      ]
     },
     "metadata": {},
     "output_type": "display_data"
    }
   ],
   "source": [
    "RSAD.trainer.training = False\n",
    "RSAD.trainer.validating = True\n",
    "ds = RSAD.val_dataloader()\n",
    "with torch.no_grad():\n",
    "    for batch in ds:\n",
    "        batch = RSAD.on_before_batch_transfer(batch, 10)\n",
    "        batch = RSAD.on_after_batch_transfer(batch, 10)\n",
    "        shift, X_bg, X_inj = batch\n",
    "        break\n",
    "plt.plot(X_inj[0][0][0][:512].cpu().numpy())"
   ]
  },
  {
   "cell_type": "code",
   "execution_count": 14,
   "id": "8184f489-a4a3-4a8b-a35b-599188f81718",
   "metadata": {},
   "outputs": [
    {
     "data": {
      "text/plain": [
       "torch.Size([10, 1, 2048])"
      ]
     },
     "execution_count": 14,
     "metadata": {},
     "output_type": "execute_result"
    }
   ],
   "source": [
    "X_bg.shape"
   ]
  },
  {
   "cell_type": "code",
   "execution_count": 18,
   "id": "aacfb2ab-304a-4506-a41a-7b68c2cb72db",
   "metadata": {},
   "outputs": [
    {
     "data": {
      "image/png": "[encoded data removed]",
      "text/plain": [
       "<Figure size 640x480 with 1 Axes>"
      ]
     },
     "metadata": {},
     "output_type": "display_data"
    }
   ],
   "source": [
    "from scipy.fft import fft, fftfreq\n",
    "import numpy as np\n",
    "N = 2048\n",
    "T = 1.0 / 512.0\n",
    "yf = fft(X_inj[0][0][0].cpu().numpy())\n",
    "xf = fftfreq(N, T)[:N//2]\n",
    "plt.plot(xf, 2.0/N * np.abs(yf[0:N//2]))\n",
    "plt.axvline(32, c = 'C1')\n",
    "plt.axvline(64, c = 'C1')\n",
    "plt.grid()\n",
    "plt.show()"
   ]
  },
  {
   "cell_type": "code",
   "execution_count": 16,
   "id": "137b10d6-1866-46ac-a4f1-1fd91cc26912",
   "metadata": {},
   "outputs": [],
   "source": [
    "RSAD.trainer.training = False\n",
    "RSAD.trainer.validating = True\n",
    "ds = RSAD.val_dataloader()\n",
    "\n",
    "i = 0\n",
    "metric = TimeSlideAUROC(max_fpr = 1e-3, pool_length = 8, stride = 0.5)\n",
    "with torch.no_grad():\n",
    "    for batch in ds:\n",
    "        batch = RSAD.on_before_batch_transfer(batch, 10)\n",
    "        [background, _, timeslide_idx], [signals] = batch\n",
    "        batch = [background.to(torch.device('cuda:0')), 0, timeslide_idx], [signals.to(torch.device('cuda:0'))]\n",
    "        del background, timeslide_idx, signals\n",
    "        batch = RSAD.on_after_batch_transfer(batch, 10)\n",
    "        shift, X_bg, X_inj = batch\n",
    "        del batch\n",
    "        y_bg = module.score(X_bg)\n",
    "        del X_bg\n",
    "        num_views, batch, *shape = X_inj.shape\n",
    "        X_inj = X_inj.view(num_views * batch, *shape)\n",
    "        \n",
    "        y_fg = module.score(X_inj)\n",
    "        y_fg = y_fg.view(num_views, batch)\n",
    "        del num_views, batch, shape\n",
    "        y_fg = y_fg.mean(0)\n",
    "        y_bg = y_bg.cpu()\n",
    "        y_fg = y_fg.cpu()\n",
    "        metric.update(shift, y_bg.cpu(), y_fg.cpu())\n",
    "        i += 1\n",
    "        if i > 10:\n",
    "            break"
   ]
  },
  {
   "cell_type": "code",
   "execution_count": 18,
   "id": "6ce2738c-83dd-476b-a24b-5201a5a8d7f8",
   "metadata": {},
   "outputs": [],
   "source": [
    "foreground, background = [], defaultdict(list)\n",
    "for i, bg, fg in zip(metric.shifts, metric.background, metric.foreground):\n",
    "    foreground.append(fg)\n",
    "    background[i.item()].append(bg)\n",
    "foreground = torch.cat(foreground)"
   ]
  },
  {
   "cell_type": "code",
   "execution_count": 19,
   "id": "f832e171-c861-4ae0-a535-0a402b53e27e",
   "metadata": {},
   "outputs": [],
   "source": [
    "pooled_background = []\n",
    "for bg in background.values():\n",
    "    bg = torch.cat(bg).view(1, 1, -1)\n",
    "    bg = metric.pool(bg).view(-1)\n",
    "    pooled_background.append(bg)\n",
    "background = torch.cat(pooled_background)"
   ]
  },
  {
   "cell_type": "code",
   "execution_count": 20,
   "id": "28a2c662-4b3b-4791-a04c-2ed111f8d904",
   "metadata": {},
   "outputs": [],
   "source": [
    "y_pred = torch.cat([background, foreground])\n",
    "y = torch.zeros_like(y_pred)\n",
    "y[len(background) :] = 1\n",
    "idx = torch.randperm(len(y_pred))\n",
    "y_pred = y_pred[idx]\n",
    "y = y[idx]"
   ]
  },
  {
   "cell_type": "code",
   "execution_count": 22,
   "id": "abcd3879-161c-4cda-978b-f4ad4a6ca9aa",
   "metadata": {},
   "outputs": [
    {
     "data": {
      "text/plain": [
       "tensor(0.4997)"
      ]
     },
     "execution_count": 22,
     "metadata": {},
     "output_type": "execute_result"
    }
   ],
   "source": [
    "metric.metric(y_pred, y)"
   ]
  },
  {
   "cell_type": "code",
   "execution_count": 23,
   "id": "349cec41-c592-405d-a18f-8b73673fc582",
   "metadata": {},
   "outputs": [
    {
     "data": {
      "text/plain": [
       "tensor([0.3513, 0.3519, 0.3506, 0.3520, 0.3491, 0.3486, 0.3455, 0.3477, 0.3468,\n",
       "        0.3435, 0.3397, 0.3462, 0.3458, 0.3455, 0.3452, 0.3444, 0.3466, 0.3385,\n",
       "        0.3427, 0.3419, 0.3409, 0.3451, 0.3449, 0.3460, 0.3444, 0.3484, 0.3460,\n",
       "        0.3280, 0.3488, 0.3502, 0.3494, 0.3419, 0.3527, 0.3480, 0.3523, 0.3521,\n",
       "        0.3470, 0.3413, 0.3505, 0.3482, 0.3491, 0.3490, 0.3470, 0.3461, 0.3437,\n",
       "        0.3487, 0.3415, 0.3480, 0.3491, 0.3484, 0.3519, 0.3381, 0.3521, 0.3521,\n",
       "        0.3537, 0.3495, 0.3499, 0.3504, 0.3482, 0.3480, 0.3499, 0.3499, 0.3518,\n",
       "        0.3507, 0.3505, 0.3487, 0.3514, 0.3492, 0.3454, 0.3468, 0.3472, 0.3423,\n",
       "        0.3469, 0.3458, 0.3466, 0.3466, 0.3470, 0.3494, 0.3471, 0.3484, 0.3450,\n",
       "        0.3453, 0.3476, 0.3463, 0.3443, 0.3484, 0.3443, 0.3464, 0.3457, 0.3458,\n",
       "        0.3466, 0.3457, 0.3471, 0.3487, 0.3499, 0.3469, 0.3478, 0.3481, 0.3472,\n",
       "        0.3492, 0.3511, 0.3493, 0.3480, 0.3520, 0.3532, 0.3544, 0.3558, 0.3547,\n",
       "        0.3463, 0.3528])"
      ]
     },
     "execution_count": 23,
     "metadata": {},
     "output_type": "execute_result"
    }
   ],
   "source": [
    "foreground"
   ]
  },
  {
   "cell_type": "code",
   "execution_count": 21,
   "id": "cc585a05-95c7-49ad-a4d8-2b32a02d7e27",
   "metadata": {},
   "outputs": [
    {
     "data": {
      "text/plain": [
       "tensor([1., 1., 1., 1., 0., 1., 1., 1., 1., 1., 1., 1., 1., 1., 1., 1., 1., 1.,\n",
       "        1., 1., 0., 1., 1., 1., 1., 1., 1., 1., 1., 1., 1., 1., 0., 1., 1., 1.,\n",
       "        1., 1., 1., 1., 1., 1., 1., 1., 1., 1., 1., 1., 1., 1., 1., 1., 1., 1.,\n",
       "        1., 1., 0., 1., 1., 1., 1., 1., 1., 1., 1., 1., 1., 1., 1., 1., 1., 1.,\n",
       "        0., 1., 1., 0., 1., 0., 1., 1., 1., 1., 1., 1., 1., 0., 1., 1., 1., 0.,\n",
       "        0., 1., 1., 0., 1., 1., 1., 1., 1., 1., 0., 1., 1., 1., 1., 1., 1., 0.,\n",
       "        1., 1., 1., 1., 1., 1., 1., 1., 1., 1., 1., 1., 1., 1., 1.],\n",
       "       device='cuda:0')"
      ]
     },
     "execution_count": 21,
     "metadata": {},
     "output_type": "execute_result"
    }
   ],
   "source": [
    "y"
   ]
  },
  {
   "cell_type": "code",
   "execution_count": null,
   "id": "74ec7e8c-509c-4f6c-9404-f638d7c155bd",
   "metadata": {},
   "outputs": [],
   "source": []
  }
 ],
 "metadata": {
  "kernelspec": {
   "display_name": "Python 3 (ipykernel)",
   "language": "python",
   "name": "python3"
  },
  "language_info": {
   "codemirror_mode": {
    "name": "ipython",
    "version": 3
   },
   "file_extension": ".py",
   "mimetype": "text/x-python",
   "name": "python",
   "nbconvert_exporter": "python",
   "pygments_lexer": "ipython3",
   "version": "3.10.16"
  }
 },
 "nbformat": 4,
 "nbformat_minor": 5
}
